{
  "nbformat": 4,
  "nbformat_minor": 0,
  "metadata": {
    "colab": {
      "name": "FIA_TCC.ipynb",
      "provenance": [],
      "collapsed_sections": [],
      "include_colab_link": true
    },
    "kernelspec": {
      "name": "python3",
      "display_name": "Python 3"
    },
    "accelerator": "GPU"
  },
  "cells": [
    {
      "cell_type": "markdown",
      "metadata": {
        "id": "view-in-github",
        "colab_type": "text"
      },
      "source": [
        "<a href=\"https://colab.research.google.com/github/DTribek/PythonProjects/blob/master/FIA_TCC.ipynb\" target=\"_parent\"><img src=\"https://colab.research.google.com/assets/colab-badge.svg\" alt=\"Open In Colab\"/></a>"
      ]
    },
    {
      "cell_type": "markdown",
      "metadata": {
        "id": "RMLRT-MImEBf",
        "colab_type": "text"
      },
      "source": [
        "# **Dataset Description**\n",
        "\n",
        "\n",
        "Bank client data:\n",
        "\n",
        "1.   Age (numeric)\n",
        "2.   Job : type of job  (categorical)\n",
        "1.   Marital : marital status (categorical)\n",
        "2.   Education (categorical)\n",
        "1.   Default: has credit in default? (categorical)\n",
        "2.   Housing: has housing loan? (categorical)\n",
        "1.   Loan: has personal loan? (categorical)\n",
        "1.   Contact: contact communication type (categorical)\n",
        "2.   Month: Month of year (categorical’)\n",
        "1.   Day_of_week: Day of the week (categorical)\n",
        "2.   Duration: In seconds (numeric)\n",
        "1.   Campaign: number of contacts performed during the campaign (numeric) \n",
        "2.   Pdays: number of days that passed by after the client was last contacted from a previous campaign (numeric; 999 means client was not previously contacted) \n",
        "1.   Previous: number of contacts performed before this campaign and for this client (numeric) \n",
        "2.   Poutcome: outcome of the previous marketing campaign (categorical)\n",
        "1.   Emp.var.rate: employment variation rate (numeric)\n",
        "2.   Cons.price.idx: consumer price index - monthly indicator (numeric)\n",
        "1.   Cons.conf.idx: consumer confidence index - monthly indicator (numeric)\n",
        "2.   Euribor3m: euribor 3 month rate - daily indicator (numeric)\n",
        "1.   Nr.employed: number of employees - quarterly indicator (numeric)\n",
        "2.  Output variable (desired target) has the client subscribed a term deposit? (binary: ‘yes’, ‘no’)\n",
        "\n",
        "#**What is a Term Deposit?**\n",
        "\n",
        "A Term deposit is a deposit that a bank or a financial institurion offers with a fixed rate (often better than just opening deposit account) in which your money will be returned back at a specific maturity time. For more information with regards to Term Deposits please click on this link from Investopedia: https://www.investopedia.com/terms/t/termdeposit.asp\n",
        "\n"
      ]
    },
    {
      "cell_type": "markdown",
      "metadata": {
        "id": "8L8ARLYR_AfZ",
        "colab_type": "text"
      },
      "source": [
        "# **Import DataSet from Git**"
      ]
    },
    {
      "cell_type": "code",
      "metadata": {
        "id": "vDGCTv1X_FRp",
        "colab_type": "code",
        "colab": {}
      },
      "source": [
        "import pandas as pd\n",
        "import numpy as np\n",
        "import os\n",
        "import matplotlib.pyplot as plt\n",
        "import seaborn as sns\n",
        "import xgboost as xgb\n",
        "from sklearn.utils import resample\n",
        "from sklearn.model_selection import train_test_split\n",
        "from sklearn.metrics import mean_squared_error\n",
        "from sklearn.metrics import r2_score\n",
        "from sklearn.metrics import roc_auc_score\n",
        "from sklearn.linear_model import LogisticRegression\n",
        "from sklearn.model_selection import GridSearchCV\n",
        "from sklearn.ensemble import RandomForestClassifier\n",
        "\n",
        "pd.set_option('display.max_columns',500)\n",
        "\n",
        "url = 'https://raw.githubusercontent.com/DTribek/datasets/master/bank-additional-full.csv'\n",
        "\n",
        "df = pd.read_csv(url,sep=';')"
      ],
      "execution_count": 0,
      "outputs": []
    },
    {
      "cell_type": "markdown",
      "metadata": {
        "id": "gj6BYL7jEd7I",
        "colab_type": "text"
      },
      "source": [
        "# Data Exploration\n",
        "##Check for missing values and target balance"
      ]
    },
    {
      "cell_type": "code",
      "metadata": {
        "id": "pZh0-rfJGKr-",
        "colab_type": "code",
        "outputId": "a5293a16-1530-48d4-e6e1-54046102bbd7",
        "colab": {
          "base_uri": "https://localhost:8080/",
          "height": 408
        }
      },
      "source": [
        "print('Missing values Count')\n",
        "print(df.isnull().sum())"
      ],
      "execution_count": 0,
      "outputs": [
        {
          "output_type": "stream",
          "text": [
            "Missing values Count\n",
            "age               0\n",
            "job               0\n",
            "marital           0\n",
            "education         0\n",
            "default           0\n",
            "housing           0\n",
            "loan              0\n",
            "contact           0\n",
            "month             0\n",
            "day_of_week       0\n",
            "duration          0\n",
            "campaign          0\n",
            "pdays             0\n",
            "previous          0\n",
            "poutcome          0\n",
            "emp.var.rate      0\n",
            "cons.price.idx    0\n",
            "cons.conf.idx     0\n",
            "euribor3m         0\n",
            "nr.employed       0\n",
            "y                 0\n",
            "dtype: int64\n"
          ],
          "name": "stdout"
        }
      ]
    },
    {
      "cell_type": "code",
      "metadata": {
        "id": "Bqqkr7daG7AT",
        "colab_type": "code",
        "outputId": "7accd2d8-2682-48c4-9895-7abe10cce664",
        "colab": {
          "base_uri": "https://localhost:8080/",
          "height": 297
        }
      },
      "source": [
        "# Pie chart\n",
        "labels = ['Seguras', 'Incertas', 'Descartadas']\n",
        "sizes = [1687,813,4323]\n",
        "colors = ['#0776a0','#Ff8500','#FF2C00']             \n",
        "\n",
        "# only \"explode\" the 2nd slice (i.e. 'Hogs')\n",
        "explode = (0.1, 0.1, 0.1)  \n",
        "fig1, ax1 = plt.subplots()\n",
        "ax1.pie(sizes, explode=explode, labels=labels, autopct='%1.1f%%',\n",
        "        colors=colors, startangle=300)\n",
        "# Equal aspect ratio ensures that pie is drawn as a circle\n",
        "ax1.axis('equal')  \n",
        "plt.tight_layout()\n",
        "plt.show()"
      ],
      "execution_count": 0,
      "outputs": [
        {
          "output_type": "display_data",
          "data": {
            "image/png": "[encoded data removed]",
            "text/plain": [
              "<Figure size 432x288 with 1 Axes>"
            ]
          },
          "metadata": {
            "tags": []
          }
        }
      ]
    },
    {
      "cell_type": "markdown",
      "metadata": {
        "id": "TfgLCh62N4NC",
        "colab_type": "text"
      },
      "source": [
        "Target variable is not balanced. This might be a problem, since if we predict everyone to be false, we will have an accuracy near 90%"
      ]
    },
    {
      "cell_type": "markdown",
      "metadata": {
        "id": "E6w76grAS_e4",
        "colab_type": "text"
      },
      "source": [
        "We will drop duration from our database, since we only know the duration after contacted the client. Also, we will remap our target variable."
      ]
    },
    {
      "cell_type": "code",
      "metadata": {
        "id": "JkJdWPt5S2ZX",
        "colab_type": "code",
        "outputId": "ebc1bd57-4c00-4e27-a343-8b7cda7c2c4a",
        "colab": {
          "base_uri": "https://localhost:8080/",
          "height": 102
        }
      },
      "source": [
        "df['target'] = df['y'].map({'yes': 1, 'no': 0}) \n",
        "df.drop(columns='y',inplace = True)\n",
        "df.drop(columns='duration',inplace = True)\n",
        "df.columns"
      ],
      "execution_count": 0,
      "outputs": [
        {
          "output_type": "execute_result",
          "data": {
            "text/plain": [
              "Index(['age', 'job', 'marital', 'education', 'default', 'housing', 'loan',\n",
              "       'contact', 'month', 'day_of_week', 'campaign', 'pdays', 'previous',\n",
              "       'poutcome', 'emp.var.rate', 'cons.price.idx', 'cons.conf.idx',\n",
              "       'euribor3m', 'nr.employed', 'target'],\n",
              "      dtype='object')"
            ]
          },
          "metadata": {
            "tags": []
          },
          "execution_count": 91
        }
      ]
    },
    {
      "cell_type": "markdown",
      "metadata": {
        "id": "VTr83maGILcW",
        "colab_type": "text"
      },
      "source": [
        "Histogram will be displayed for all numeric variables"
      ]
    },
    {
      "cell_type": "code",
      "metadata": {
        "id": "AsPcijafBwoQ",
        "colab_type": "code",
        "outputId": "c294355a-f81b-4011-966b-9acb42082a1c",
        "colab": {
          "base_uri": "https://localhost:8080/",
          "height": 603
        }
      },
      "source": [
        "\n",
        "plt.style.use('seaborn-whitegrid')\n",
        "\n",
        "df.hist(bins=20, figsize=(14,10), color='#006363')\n",
        "plt.show()"
      ],
      "execution_count": 0,
      "outputs": [
        {
          "output_type": "display_data",
          "data": {
            "image/png": "[encoded data removed]",
            "text/plain": [
              "<Figure size 1008x720 with 12 Axes>"
            ]
          },
          "metadata": {
            "tags": []
          }
        }
      ]
    },
    {
      "cell_type": "markdown",
      "metadata": {
        "id": "nGAgSnlzC4SP",
        "colab_type": "text"
      },
      "source": [
        "#Numerical Analysis\n",
        "    Our numeric data is not following a normal distribution. Let's try to work on it and see if we can split it in groups to make the correlation with the target variable better"
      ]
    },
    {
      "cell_type": "markdown",
      "metadata": {
        "id": "po5V4slWeTWB",
        "colab_type": "text"
      },
      "source": [
        "#AGE"
      ]
    },
    {
      "cell_type": "markdown",
      "metadata": {
        "id": "PPOL0xNEDJjb",
        "colab_type": "text"
      },
      "source": [
        "Let's split the data between 1 and 0 for target."
      ]
    },
    {
      "cell_type": "code",
      "metadata": {
        "id": "Hir7f_xv9wYY",
        "colab_type": "code",
        "colab": {}
      },
      "source": [
        "df0 = df[df['target']==0]\n",
        "df1 = df[df['target']==1]"
      ],
      "execution_count": 0,
      "outputs": []
    },
    {
      "cell_type": "markdown",
      "metadata": {
        "id": "HC_-HcHBDZTB",
        "colab_type": "text"
      },
      "source": [
        "Show histograms for both groups"
      ]
    },
    {
      "cell_type": "code",
      "metadata": {
        "id": "Qwrq8avMRZjs",
        "colab_type": "code",
        "outputId": "decee4cb-5992-4cc0-9de2-4334532c9cd8",
        "colab": {
          "base_uri": "https://localhost:8080/",
          "height": 279
        }
      },
      "source": [
        "df1['age'].hist()"
      ],
      "execution_count": 0,
      "outputs": [
        {
          "output_type": "execute_result",
          "data": {
            "text/plain": [
              "<matplotlib.axes._subplots.AxesSubplot at 0x7fcd86683518>"
            ]
          },
          "metadata": {
            "tags": []
          },
          "execution_count": 33
        },
        {
          "output_type": "display_data",
          "data": {
            "image/png": "[encoded data removed]",
            "text/plain": [
              "<Figure size 432x288 with 1 Axes>"
            ]
          },
          "metadata": {
            "tags": []
          }
        }
      ]
    },
    {
      "cell_type": "code",
      "metadata": {
        "id": "2a87e_jdRzkd",
        "colab_type": "code",
        "outputId": "3adc4d7c-ea79-4a65-bdff-f9178964f023",
        "colab": {
          "base_uri": "https://localhost:8080/",
          "height": 279
        }
      },
      "source": [
        "df0['age'].hist()"
      ],
      "execution_count": 0,
      "outputs": [
        {
          "output_type": "execute_result",
          "data": {
            "text/plain": [
              "<matplotlib.axes._subplots.AxesSubplot at 0x7fcd86823128>"
            ]
          },
          "metadata": {
            "tags": []
          },
          "execution_count": 34
        },
        {
          "output_type": "display_data",
          "data": {
            "image/png": "[encoded data removed]",
            "text/plain": [
              "<Figure size 432x288 with 1 Axes>"
            ]
          },
          "metadata": {
            "tags": []
          }
        }
      ]
    },
    {
      "cell_type": "markdown",
      "metadata": {
        "id": "9-sNPCj-DeJQ",
        "colab_type": "text"
      },
      "source": [
        "Let's try to split age in different groups to see if any of them seens reasonable to work with. Apprently elderly people are more likely to do a term deposit."
      ]
    },
    {
      "cell_type": "code",
      "metadata": {
        "id": "vzkk_SxQiEkp",
        "colab_type": "code",
        "colab": {}
      },
      "source": [
        "def split_age(dataframe):\n",
        "  df = dataframe.copy()\n",
        "  df['age_under_35'] = np.where( df['age']<=35, 1, 0)\n",
        "  df['age_above_30'] = np.where( df['age']<=30, 1, 0)\n",
        "  df['age_under_25'] = np.where( df['age']<=25, 1, 0)\n",
        "  df['age_above_20'] = np.where( df['age']<=20, 1, 0)\n",
        "  df['age_above_55'] = np.where( df['age']>=55, 1, 0)\n",
        "  df['age_above_60'] = np.where( df['age']>=60, 1, 0)\n",
        "  df['age_above_65'] = np.where( df['age']>=65, 1, 0)\n",
        "  df['age_25-35']    = np.where((df['age']>25) & (df['age']< 35)  , 1, 0)\n",
        "  df['age_35-45']    = np.where((df['age']>35) & (df['age']< 45)  , 1, 0)\n",
        "  df['age_45-60']    = np.where((df['age']>45) & (df['age']< 60)  , 1, 0)\n",
        "  df['age_25-45']    = np.where((df['age']>25) & (df['age']< 45)  , 1, 0)\n",
        "  df['age_25-55']    = np.where((df['age']>25) & (df['age']< 55)  , 1, 0)\n",
        "  df['age_45-55']    = np.where((df['age']>=45) & (df['age']<= 55)  , 1, 0)\n",
        "  df['age_25-60']    = np.where((df['age']>25) & (df['age']< 60)  , 1, 0)\n",
        "  df['age_55-60']    = np.where((df['age']>=55) & (df['age']< 60)  , 1, 0)\n",
        "  \n",
        "  print(df.corr()['target'])"
      ],
      "execution_count": 0,
      "outputs": []
    },
    {
      "cell_type": "code",
      "metadata": {
        "id": "IpJq6PSvlKgj",
        "colab_type": "code",
        "outputId": "3e4c561b-fc6c-42e2-c13e-f712abf0a8a3",
        "colab": {
          "base_uri": "https://localhost:8080/",
          "height": 474
        }
      },
      "source": [
        "split_age(df)"
      ],
      "execution_count": 0,
      "outputs": [
        {
          "output_type": "stream",
          "text": [
            "age               0.030399\n",
            "campaign         -0.066357\n",
            "pdays            -0.324914\n",
            "previous          0.230181\n",
            "emp.var.rate     -0.298334\n",
            "cons.price.idx   -0.136211\n",
            "cons.conf.idx     0.054878\n",
            "euribor3m        -0.307771\n",
            "nr.employed      -0.354678\n",
            "target            1.000000\n",
            "age_under_35      0.035841\n",
            "age_above_30      0.058515\n",
            "age_under_25      0.062879\n",
            "age_above_20      0.054396\n",
            "age_above_55      0.081067\n",
            "age_above_60      0.154584\n",
            "age_above_65      0.145413\n",
            "age_25-35         0.016259\n",
            "age_35-45        -0.054717\n",
            "age_45-60        -0.037267\n",
            "age_25-45        -0.040815\n",
            "age_25-55        -0.105638\n",
            "age_45-55        -0.044825\n",
            "age_25-60        -0.150745\n",
            "age_55-60        -0.005034\n",
            "Name: target, dtype: float64\n"
          ],
          "name": "stdout"
        }
      ]
    },
    {
      "cell_type": "markdown",
      "metadata": {
        "id": "8jPZ5aU-mv4_",
        "colab_type": "text"
      },
      "source": [
        "As we can see from the histogram, our target variable, term deposit, has a different behavior depending on ages. Running the function to find the correlation we can see that ideally age should be split in three groups. \n",
        "\n",
        "1.   **Group 1:** People under 25 y.o. **(Young)**\n",
        "1.   **Group 2:** People from 25-60 y.o. **(Mid Age)**\n",
        "2.   **Group 3:** People above 60y.o. **(Elderly)**\n",
        "\n"
      ]
    },
    {
      "cell_type": "code",
      "metadata": {
        "id": "cBfcTo52lUAn",
        "colab_type": "code",
        "colab": {}
      },
      "source": [
        "df['age_young']   = np.where( df['age']<=25, 1, 0)\n",
        "df['age_mid_age'] = np.where((df['age']>25) & (df['age']< 60)  , 1, 0)\n",
        "df['age_elder']     = np.where( df['age']>60, 1, 0)"
      ],
      "execution_count": 0,
      "outputs": []
    },
    {
      "cell_type": "markdown",
      "metadata": {
        "id": "iJGH98mFeYBv",
        "colab_type": "text"
      },
      "source": [
        "#CAMPAIGN"
      ]
    },
    {
      "cell_type": "markdown",
      "metadata": {
        "id": "2IZPKdR4EDFl",
        "colab_type": "text"
      },
      "source": [
        "Same strategy as age..."
      ]
    },
    {
      "cell_type": "code",
      "metadata": {
        "id": "rydVy_LoigwN",
        "colab_type": "code",
        "colab": {}
      },
      "source": [
        "df0 = df[df['target']==0]\n",
        "df1 = df[df['target']==1]"
      ],
      "execution_count": 0,
      "outputs": []
    },
    {
      "cell_type": "markdown",
      "metadata": {
        "id": "X9oEc37iEG_y",
        "colab_type": "text"
      },
      "source": [
        "Let's see the distribution for each group"
      ]
    },
    {
      "cell_type": "code",
      "metadata": {
        "id": "QKCC_CQneew9",
        "colab_type": "code",
        "outputId": "59bb95a7-d3bb-43b7-b720-fbc1f9ea4218",
        "colab": {
          "base_uri": "https://localhost:8080/",
          "height": 72
        }
      },
      "source": [
        "print(\"DF_0:{}\".format(dict(df0['campaign'].value_counts()/len(df0))))\n",
        "print(\"DF_1:{}\".format(dict(df1['campaign'].value_counts())))"
      ],
      "execution_count": 0,
      "outputs": [
        {
          "output_type": "stream",
          "text": [
            "DF_0:{1: 0.41977673196891757, 2: 0.2560742037868009, 3: 0.13043121374630623, 4: 0.0657217905220532, 5: 0.0404673306336872, 6: 0.024734595600306445, 7: 0.016170515486483527, 8: 0.010479369596147531, 9: 0.007278100032833534, 10: 0.005827952281930612, 11: 0.004514610922622305, 12: 0.0033380759549086134, 13: 0.0024077924920652295, 14: 0.001860566925686768, 17: 0.0014775090292218453, 16: 0.001395425194265076, 15: 0.00134070263762723, 18: 0.0009029221845244609, 20: 0.0008208383495676918, 19: 0.0007113932362919996, 21: 0.0006566706796541534, 22: 0.000465141731421692, 24: 0.0004104191747838459, 23: 0.0004104191747838459, 27: 0.0003009740615081537, 29: 0.0002736127831892306, 25: 0.0002188902265513845, 26: 0.0002188902265513845, 28: 0.0002188902265513845, 30: 0.0001915289482324614, 31: 0.0001915289482324614, 35: 0.0001368063915946153, 33: 0.00010944511327569225, 32: 0.00010944511327569225, 34: 8.208383495676918e-05, 40: 5.472255663784612e-05, 42: 5.472255663784612e-05, 43: 5.472255663784612e-05, 37: 2.736127831892306e-05, 39: 2.736127831892306e-05, 41: 2.736127831892306e-05, 56: 2.736127831892306e-05}\n",
            "DF_1:{1: 2300, 2: 1211, 3: 574, 4: 249, 5: 120, 6: 75, 7: 38, 9: 17, 8: 17, 10: 12, 11: 12, 17: 4, 13: 4, 12: 3, 15: 2, 14: 1, 23: 1}\n"
          ],
          "name": "stdout"
        }
      ]
    },
    {
      "cell_type": "code",
      "metadata": {
        "id": "egd3kQ-FhNUX",
        "colab_type": "code",
        "colab": {}
      },
      "source": [
        "df['campaign_C1']   = np.where( df['campaign']==1, 1, 0)\n",
        "df['campaign_C2']   = np.where( df['campaign']==2, 1, 0)\n",
        "df['campaign_C3']   = np.where( df['campaign']==3, 1, 0)\n",
        "df['campaign_C4']   = np.where( df['campaign']==4, 1, 0)\n",
        "df['campaign_C5']   = np.where( df['campaign']==5, 1, 0)\n",
        "df['campaign_C6']   = np.where( df['campaign']>=6, 1, 0)"
      ],
      "execution_count": 0,
      "outputs": []
    },
    {
      "cell_type": "code",
      "metadata": {
        "id": "sJORT1ZIgqpq",
        "colab_type": "code",
        "outputId": "c2caac9f-03ee-4f2d-8327-3ec45eb4103f",
        "colab": {
          "base_uri": "https://localhost:8080/",
          "height": 369
        }
      },
      "source": [
        "df.corr()['target']"
      ],
      "execution_count": 0,
      "outputs": [
        {
          "output_type": "execute_result",
          "data": {
            "text/plain": [
              "age               0.030399\n",
              "campaign         -0.066357\n",
              "pdays            -0.324914\n",
              "previous          0.230181\n",
              "emp.var.rate     -0.298334\n",
              "cons.price.idx   -0.136211\n",
              "cons.conf.idx     0.054878\n",
              "euribor3m        -0.307771\n",
              "nr.employed      -0.354678\n",
              "target            1.000000\n",
              "age_young         0.062879\n",
              "age_mid_age      -0.150745\n",
              "age_elder         0.162728\n",
              "campaign_C1       0.048504\n",
              "campaign_C2       0.003559\n",
              "campaign_C3      -0.006329\n",
              "campaign_C4      -0.015535\n",
              "campaign_C5      -0.023905\n",
              "campaign_C6      -0.054616\n",
              "Name: target, dtype: float64"
            ]
          },
          "metadata": {
            "tags": []
          },
          "execution_count": 159
        }
      ]
    },
    {
      "cell_type": "markdown",
      "metadata": {
        "id": "6-JtZsqetvVg",
        "colab_type": "text"
      },
      "source": [
        "Correlation did not improve, let's drop the new columns and stay with the campaign"
      ]
    },
    {
      "cell_type": "code",
      "metadata": {
        "id": "ywE6XlAJtt2c",
        "colab_type": "code",
        "colab": {}
      },
      "source": [
        "df.drop(columns=['campaign_C1','campaign_C2','campaign_C3','campaign_C4','campaign_C5','campaign_C6'],inplace=True)"
      ],
      "execution_count": 0,
      "outputs": []
    },
    {
      "cell_type": "markdown",
      "metadata": {
        "id": "L4soCx9CwFJy",
        "colab_type": "text"
      },
      "source": [
        "#PDays"
      ]
    },
    {
      "cell_type": "markdown",
      "metadata": {
        "id": "scdnx108ESaw",
        "colab_type": "text"
      },
      "source": [
        "We will see how pdays is distributed across the groups"
      ]
    },
    {
      "cell_type": "code",
      "metadata": {
        "id": "xJVjjOQAuYPl",
        "colab_type": "code",
        "outputId": "5316cfdc-e17e-4c8e-a7c6-b2b097e54df0",
        "colab": {
          "base_uri": "https://localhost:8080/",
          "height": 90
        }
      },
      "source": [
        "print(\"DF:{}\".format(dict(df['pdays'].value_counts()/len(df))))\n",
        "print(\"DF_0:{}\".format(dict(df0['pdays'].value_counts()/len(df0))))\n",
        "print(\"DF_1:{}\".format(dict(df1['pdays'].value_counts()/len(df1))))"
      ],
      "execution_count": 0,
      "outputs": [
        {
          "output_type": "stream",
          "text": [
            "DF:{999: 0.9632174419733903, 3: 0.010658444207050597, 6: 0.010002913469942702, 4: 0.0028649121103233952, 9: 0.0015538506361076042, 2: 0.0014810138875400603, 7: 0.001456734971350879, 12: 0.0014081771389725163, 10: 0.0012625036418374284, 5: 0.0011168301447023405, 13: 0.0008740409828105274, 11: 0.0006798096532970768, 1: 0.0006312518209187142, 15: 0.0005826939885403516, 14: 0.0004855783237836263, 8: 0.0004370204914052637, 0: 0.00036418374283771974, 16: 0.00026706807808099444, 17: 0.00019423132951345052, 18: 0.0001699524133242692, 19: 7.283674856754395e-05, 22: 7.283674856754395e-05, 21: 4.855783237836263e-05, 26: 2.4278916189181315e-05, 20: 2.4278916189181315e-05, 25: 2.4278916189181315e-05, 27: 2.4278916189181315e-05}\n",
            "DF_0:{999: 0.9850060194812301, 3: 0.0038579402429681515, 6: 0.0033654372332275364, 4: 0.0015048703075407684, 12: 0.000875560906205538, 9: 0.0007934770712487687, 2: 0.0006566706796541534, 10: 0.0006019481230163074, 7: 0.0005472255663784612, 1: 0.000492503009740615, 5: 0.000465141731421692, 11: 0.0003556966181459998, 14: 0.0002462515048703075, 15: 0.0002188902265513845, 13: 0.0002188902265513845, 17: 0.00016416766991353835, 8: 0.00016416766991353835, 0: 0.0001368063915946153, 16: 0.0001368063915946153, 18: 8.208383495676918e-05, 19: 5.472255663784612e-05, 20: 2.736127831892306e-05, 22: 2.736127831892306e-05}\n",
            "DF_1:{999: 0.7915948275862069, 3: 0.06422413793103449, 6: 0.06228448275862069, 4: 0.013577586206896551, 7: 0.008620689655172414, 2: 0.007974137931034483, 9: 0.007543103448275862, 10: 0.00646551724137931, 5: 0.00625, 13: 0.00603448275862069, 12: 0.005603448275862069, 15: 0.0034482758620689655, 11: 0.003232758620689655, 8: 0.002586206896551724, 14: 0.0023706896551724138, 0: 0.0021551724137931034, 1: 0.0017241379310344827, 16: 0.001293103448275862, 18: 0.0008620689655172414, 21: 0.0004310344827586207, 22: 0.0004310344827586207, 17: 0.0004310344827586207, 26: 0.00021551724137931034, 25: 0.00021551724137931034, 27: 0.00021551724137931034, 19: 0.00021551724137931034}\n"
          ],
          "name": "stdout"
        }
      ]
    },
    {
      "cell_type": "code",
      "metadata": {
        "id": "uCPV79S3wrId",
        "colab_type": "code",
        "colab": {}
      },
      "source": [
        "df['pdays_999']   = np.where( df['pdays']==999, 1, 0)"
      ],
      "execution_count": 0,
      "outputs": []
    },
    {
      "cell_type": "code",
      "metadata": {
        "id": "RS87yBM5wxHZ",
        "colab_type": "code",
        "outputId": "c5be4379-2c28-44b9-bcc5-f2b269817702",
        "colab": {
          "base_uri": "https://localhost:8080/",
          "height": 386
        }
      },
      "source": [
        "df.corr()['target']"
      ],
      "execution_count": 0,
      "outputs": [
        {
          "output_type": "execute_result",
          "data": {
            "text/plain": [
              "age               0.030399\n",
              "campaign         -0.066357\n",
              "pdays            -0.324914\n",
              "previous          0.230181\n",
              "emp.var.rate     -0.298334\n",
              "cons.price.idx   -0.136211\n",
              "cons.conf.idx     0.054878\n",
              "euribor3m        -0.307771\n",
              "nr.employed      -0.354678\n",
              "target            1.000000\n",
              "age_young         0.062879\n",
              "age_mid_age      -0.150745\n",
              "age_elder         0.162728\n",
              "campaign_C1       0.048504\n",
              "campaign_C2       0.003559\n",
              "campaign_C3      -0.006329\n",
              "campaign_C4      -0.015535\n",
              "campaign_C5      -0.023905\n",
              "campaign_C6      -0.054616\n",
              "pdays_999        -0.324877\n",
              "Name: target, dtype: float64"
            ]
          },
          "metadata": {
            "tags": []
          },
          "execution_count": 162
        }
      ]
    },
    {
      "cell_type": "markdown",
      "metadata": {
        "id": "Vi3RDSJVxbjJ",
        "colab_type": "text"
      },
      "source": [
        "Pdays numeric will probably make the model a little worse. It's seems reasonable to map only if the client was previously contacted or not. Also, since we will do normalization, pdays will basically become a true or false column"
      ]
    },
    {
      "cell_type": "markdown",
      "metadata": {
        "id": "N-21U7hXxyUM",
        "colab_type": "text"
      },
      "source": [
        "#Previous"
      ]
    },
    {
      "cell_type": "markdown",
      "metadata": {
        "id": "M9FtCbISEoX_",
        "colab_type": "text"
      },
      "source": [
        "We will see how previous is distributed now..."
      ]
    },
    {
      "cell_type": "code",
      "metadata": {
        "id": "Wa4LM4wW2XFe",
        "colab_type": "code",
        "outputId": "7f556d81-3387-4685-b768-3896394aebab",
        "colab": {
          "base_uri": "https://localhost:8080/",
          "height": 34
        }
      },
      "source": [
        "df['previous'].unique()"
      ],
      "execution_count": 0,
      "outputs": [
        {
          "output_type": "execute_result",
          "data": {
            "text/plain": [
              "array([0, 1, 2, 3, 4, 5, 6, 7])"
            ]
          },
          "metadata": {
            "tags": []
          },
          "execution_count": 163
        }
      ]
    },
    {
      "cell_type": "code",
      "metadata": {
        "id": "OCL6I2qG2cyk",
        "colab_type": "code",
        "outputId": "d7313786-9a72-4c90-d6b7-ebce0f755f93",
        "colab": {
          "base_uri": "https://localhost:8080/",
          "height": 339
        }
      },
      "source": [
        "plt.hist(df['previous'])"
      ],
      "execution_count": 0,
      "outputs": [
        {
          "output_type": "execute_result",
          "data": {
            "text/plain": [
              "(array([3.5563e+04, 4.5610e+03, 7.5400e+02, 0.0000e+00, 2.1600e+02,\n",
              "        7.0000e+01, 0.0000e+00, 1.8000e+01, 5.0000e+00, 1.0000e+00]),\n",
              " array([0. , 0.7, 1.4, 2.1, 2.8, 3.5, 4.2, 4.9, 5.6, 6.3, 7. ]),\n",
              " <a list of 10 Patch objects>)"
            ]
          },
          "metadata": {
            "tags": []
          },
          "execution_count": 91
        },
        {
          "output_type": "display_data",
          "data": {
            "image/png": "[encoded data removed]",
            "text/plain": [
              "<Figure size 432x288 with 1 Axes>"
            ]
          },
          "metadata": {
            "tags": []
          }
        }
      ]
    },
    {
      "cell_type": "markdown",
      "metadata": {
        "id": "VSXVwlF1FLhp",
        "colab_type": "text"
      },
      "source": [
        "Count the values for each value"
      ]
    },
    {
      "cell_type": "code",
      "metadata": {
        "id": "PHU-2j_Kxa7R",
        "colab_type": "code",
        "colab": {}
      },
      "source": [
        "print(\"DF:{}\".format(dict(df['previous'].value_counts()/len(df))))\n",
        "print(\"DF_0:{}\".format(dict(df0['previous'].value_counts()/len(df0))))\n",
        "print(\"DF_1:{}\".format(dict(df1['previous'].value_counts()/len(df1))))"
      ],
      "execution_count": 0,
      "outputs": []
    },
    {
      "cell_type": "markdown",
      "metadata": {
        "id": "SMtYBwEvFVKi",
        "colab_type": "text"
      },
      "source": [
        "Create new groups"
      ]
    },
    {
      "cell_type": "code",
      "metadata": {
        "id": "hwbXz4XzxWzT",
        "colab_type": "code",
        "colab": {}
      },
      "source": [
        "df['previous_P0']   = np.where( df['previous']==0, 1, 0)\n",
        "df['previous_P1']   = np.where( df['previous']==1, 1, 0)\n",
        "df['previous_P2']   = np.where( df['previous']>1, 1, 0)"
      ],
      "execution_count": 0,
      "outputs": []
    },
    {
      "cell_type": "code",
      "metadata": {
        "id": "kICiOGuEytaG",
        "colab_type": "code",
        "outputId": "ee874c21-3757-4f91-c65b-9fe21bff0772",
        "colab": {
          "base_uri": "https://localhost:8080/",
          "height": 510
        }
      },
      "source": [
        "df.corr()['target']"
      ],
      "execution_count": 0,
      "outputs": [
        {
          "output_type": "execute_result",
          "data": {
            "text/plain": [
              "age               0.030399\n",
              "campaign         -0.066357\n",
              "pdays            -0.324914\n",
              "previous          0.230181\n",
              "emp.var.rate     -0.298334\n",
              "cons.price.idx   -0.136211\n",
              "cons.conf.idx     0.054878\n",
              "euribor3m        -0.307771\n",
              "nr.employed      -0.354678\n",
              "target            1.000000\n",
              "age_young         0.062879\n",
              "age_mid_age      -0.150745\n",
              "age_elder         0.162728\n",
              "campaign_C1       0.048504\n",
              "campaign_C2       0.003559\n",
              "campaign_C3      -0.006329\n",
              "campaign_C4      -0.015535\n",
              "campaign_C5      -0.023905\n",
              "campaign_C6      -0.054616\n",
              "pdays_999        -0.324877\n",
              "campaign_P0      -0.193507\n",
              "campaign_P1       0.110898\n",
              "campaign_P2       0.199502\n",
              "campaign_log     -0.069780\n",
              "previous_P0      -0.193507\n",
              "previous_P1       0.110898\n",
              "previous_P2       0.199502\n",
              "Name: target, dtype: float64"
            ]
          },
          "metadata": {
            "tags": []
          },
          "execution_count": 95
        }
      ]
    },
    {
      "cell_type": "markdown",
      "metadata": {
        "id": "5BNhP8z53FQm",
        "colab_type": "text"
      },
      "source": [
        "Correlation did not improve for this case."
      ]
    },
    {
      "cell_type": "markdown",
      "metadata": {
        "id": "0IyPnIsnz6lL",
        "colab_type": "text"
      },
      "source": [
        "#Emp.Var.Rate"
      ]
    },
    {
      "cell_type": "code",
      "metadata": {
        "id": "-ed5JWhE3L3D",
        "colab_type": "code",
        "outputId": "0a318ed9-a7db-49c6-d327-7fa5eab6bdbc",
        "colab": {
          "base_uri": "https://localhost:8080/",
          "height": 352
        }
      },
      "source": [
        "plt.hist(df['emp.var.rate'])"
      ],
      "execution_count": 0,
      "outputs": [
        {
          "output_type": "execute_result",
          "data": {
            "text/plain": [
              "(array([ 1243.,  1663.,     0.,  9957.,   635.,     0.,  3693.,     0.,\n",
              "            0., 23997.]),\n",
              " array([-3.4 , -2.92, -2.44, -1.96, -1.48, -1.  , -0.52, -0.04,  0.44,\n",
              "         0.92,  1.4 ]),\n",
              " <a list of 10 Patch objects>)"
            ]
          },
          "metadata": {
            "tags": []
          },
          "execution_count": 164
        },
        {
          "output_type": "display_data",
          "data": {
            "image/png": "[encoded data removed]",
            "text/plain": [
              "<Figure size 432x288 with 1 Axes>"
            ]
          },
          "metadata": {
            "tags": []
          }
        }
      ]
    },
    {
      "cell_type": "code",
      "metadata": {
        "id": "VQ5L7Zoo3faL",
        "colab_type": "code",
        "outputId": "ad227dd1-0bce-464f-ab6a-ff6c4697ceb8",
        "colab": {
          "base_uri": "https://localhost:8080/",
          "height": 350
        }
      },
      "source": [
        "plt.hist(df1['emp.var.rate'])"
      ],
      "execution_count": 0,
      "outputs": [
        {
          "output_type": "execute_result",
          "data": {
            "text/plain": [
              "(array([ 542.,  594.,    0., 1864.,  301.,    0.,  233.,    0.,    0.,\n",
              "        1106.]),\n",
              " array([-3.4 , -2.92, -2.44, -1.96, -1.48, -1.  , -0.52, -0.04,  0.44,\n",
              "         0.92,  1.4 ]),\n",
              " <a list of 10 Patch objects>)"
            ]
          },
          "metadata": {
            "tags": []
          },
          "execution_count": 165
        },
        {
          "output_type": "display_data",
          "data": {
            "image/png": "[encoded data removed]",
            "text/plain": [
              "<Figure size 432x288 with 1 Axes>"
            ]
          },
          "metadata": {
            "tags": []
          }
        }
      ]
    },
    {
      "cell_type": "code",
      "metadata": {
        "id": "SqHZLIoN3ffq",
        "colab_type": "code",
        "outputId": "510d1e1a-dd65-43f5-9bbf-a7601e2929b4",
        "colab": {
          "base_uri": "https://localhost:8080/",
          "height": 350
        }
      },
      "source": [
        "plt.hist(df0['emp.var.rate'])"
      ],
      "execution_count": 0,
      "outputs": [
        {
          "output_type": "execute_result",
          "data": {
            "text/plain": [
              "(array([  701.,  1069.,     0.,  8093.,   334.,     0.,  3460.,     0.,\n",
              "            0., 22891.]),\n",
              " array([-3.4 , -2.92, -2.44, -1.96, -1.48, -1.  , -0.52, -0.04,  0.44,\n",
              "         0.92,  1.4 ]),\n",
              " <a list of 10 Patch objects>)"
            ]
          },
          "metadata": {
            "tags": []
          },
          "execution_count": 166
        },
        {
          "output_type": "display_data",
          "data": {
            "image/png": "[encoded data removed]",
            "text/plain": [
              "<Figure size 432x288 with 1 Axes>"
            ]
          },
          "metadata": {
            "tags": []
          }
        }
      ]
    },
    {
      "cell_type": "code",
      "metadata": {
        "id": "0p-YRRyb0CPO",
        "colab_type": "code",
        "outputId": "6036c10f-4fa5-40b9-ed3b-ac8148146dc8",
        "colab": {
          "base_uri": "https://localhost:8080/",
          "height": 90
        }
      },
      "source": [
        "print(\"DF:{}\".format(dict(df['emp.var.rate'].value_counts()/len(df))))\n",
        "print(\"DF_0:{}\".format(dict(df0['emp.var.rate'].value_counts()/len(df0))))\n",
        "print(\"DF_1:{}\".format(dict(df1['emp.var.rate'].value_counts()/len(df1))))"
      ],
      "execution_count": 0,
      "outputs": [
        {
          "output_type": "stream",
          "text": [
            "DF:{1.4: 0.39414392541516946, -1.8: 0.2229775662814412, 1.1: 0.18847722637661454, -0.1: 0.08941924832475479, -2.9: 0.040375837622608525, -3.4: 0.02600271923861319, -1.7: 0.018767602214237157, -1.1: 0.015417111780130135, -3.0: 0.0041759735845391865, -0.2: 0.00024278916189181314}\n",
            "DF_0:{1.4: 0.42048812520520956, -1.8: 0.2113111524570428, 1.1: 0.20583889679325817, -0.1: 0.09442377147860348, -2.9: 0.029249206522928752, -3.4: 0.016881908722775528, -1.7: 0.010123672978001532, -1.1: 0.009138666958520301, -3.0: 0.002298347378789537, -0.2: 0.0002462515048703075}\n",
            "DF_1:{-1.8: 0.3148706896551724, 1.4: 0.18663793103448276, -2.9: 0.12801724137931034, -3.4: 0.0978448275862069, -1.7: 0.08685344827586207, -1.1: 0.06487068965517241, 1.1: 0.05172413793103448, -0.1: 0.05, -3.0: 0.01896551724137931, -0.2: 0.00021551724137931034}\n"
          ],
          "name": "stdout"
        }
      ]
    },
    {
      "cell_type": "code",
      "metadata": {
        "id": "QNw2OEIMz46t",
        "colab_type": "code",
        "outputId": "f5bf8f2e-9dc8-4806-eb95-93f2bd419a34",
        "colab": {
          "base_uri": "https://localhost:8080/",
          "height": 386
        }
      },
      "source": [
        "df.corr()['target']"
      ],
      "execution_count": 0,
      "outputs": [
        {
          "output_type": "execute_result",
          "data": {
            "text/plain": [
              "age               0.030399\n",
              "campaign         -0.066357\n",
              "pdays            -0.324914\n",
              "previous          0.230181\n",
              "emp.var.rate     -0.298334\n",
              "cons.price.idx   -0.136211\n",
              "cons.conf.idx     0.054878\n",
              "euribor3m        -0.307771\n",
              "nr.employed      -0.354678\n",
              "target            1.000000\n",
              "age_young         0.062879\n",
              "age_mid_age      -0.150745\n",
              "age_elder         0.162728\n",
              "campaign_C1       0.048504\n",
              "campaign_C2       0.003559\n",
              "campaign_C3      -0.006329\n",
              "campaign_C4      -0.015535\n",
              "campaign_C5      -0.023905\n",
              "campaign_C6      -0.054616\n",
              "pdays_999        -0.324877\n",
              "Name: target, dtype: float64"
            ]
          },
          "metadata": {
            "tags": []
          },
          "execution_count": 168
        }
      ]
    },
    {
      "cell_type": "markdown",
      "metadata": {
        "id": "sFCbVHwH4QO8",
        "colab_type": "text"
      },
      "source": [
        "#cons.price.idx"
      ]
    },
    {
      "cell_type": "code",
      "metadata": {
        "id": "zXQRrLhY43_G",
        "colab_type": "code",
        "outputId": "8d71e22d-f786-4175-8a4f-7853b7977df8",
        "colab": {
          "base_uri": "https://localhost:8080/",
          "height": 90
        }
      },
      "source": [
        "print(\"DF:{}\".format(dict(df['cons.price.idx'].value_counts()/len(df))))\n",
        "print(\"DF_0:{}\".format(dict(df0['cons.price.idx'].value_counts()/len(df0))))\n",
        "print(\"DF_1:{}\".format(dict(df1['cons.price.idx'].value_counts()/len(df1))))"
      ],
      "execution_count": 0,
      "outputs": [
        {
          "output_type": "stream",
          "text": [
            "DF:{93.994: 0.18847722637661454, 93.91799999999999: 0.16230455472467709, 92.89299999999999: 0.14067204040011655, 93.444: 0.1256433912790133, 94.465: 0.10619597941147907, 93.2: 0.08779256094007963, 93.075: 0.05967757599300767, 92.20100000000001: 0.018694765465669613, 92.963: 0.01735942507526464, 92.431: 0.010852675536564048, 92.649: 0.00866757307953773, 94.215: 0.007550742934835389, 94.199: 0.007356511605321938, 92.84299999999999: 0.006846654365349131, 92.37899999999999: 0.006482470622511411, 93.369: 0.0064096338739438674, 94.027: 0.005656987472079246, 94.055: 0.005559871807322521, 93.876: 0.005147130232106439, 94.601: 0.004952898902592988, 92.469: 0.004321647081674274, 93.749: 0.004224531416917549, 92.713: 0.0041759735845391865, 94.76700000000001: 0.0031077012722152083, 93.79799999999999: 0.001626687384675148, 92.756: 0.00024278916189181314}\n",
            "DF_0:{93.994: 0.20583889679325817, 93.91799999999999: 0.17177410528619896, 92.89299999999999: 0.14419393674072453, 93.444: 0.1341797088759987, 94.465: 0.11453431104301193, 93.2: 0.0937397395206304, 93.075: 0.05516033709094889, 92.20100000000001: 0.013844806829375068, 92.963: 0.0123399365218343, 92.431: 0.007305461311152457, 92.649: 0.0051712816022764585, 92.37899999999999: 0.004405165809346612, 92.84299999999999: 0.004268359417751997, 94.199: 0.0041862755827952285, 94.215: 0.003693772573054613, 94.055: 0.0033380759549086134, 93.369: 0.0031191857283572287, 94.027: 0.0030918244500383056, 92.469: 0.0030644631717193825, 94.601: 0.0030371018934004595, 93.876: 0.0024625150487030756, 92.713: 0.002298347378789537, 93.749: 0.0021068184305570756, 94.76700000000001: 0.0019152894823246142, 93.79799999999999: 0.0006840319579730765, 92.756: 0.0002462515048703075}\n",
            "DF_1:{92.89299999999999: 0.11293103448275862, 93.075: 0.09525862068965517, 93.91799999999999: 0.08771551724137931, 93.444: 0.0584051724137931, 92.20100000000001: 0.056896551724137934, 92.963: 0.056896551724137934, 93.994: 0.05172413793103448, 93.2: 0.040948275862068964, 94.465: 0.04051724137931034, 92.431: 0.03879310344827586, 94.215: 0.03793103448275862, 92.649: 0.03620689655172414, 93.369: 0.032327586206896554, 94.199: 0.032327586206896554, 92.84299999999999: 0.027155172413793102, 93.876: 0.026293103448275863, 94.027: 0.02586206896551724, 94.055: 0.023060344827586208, 92.37899999999999: 0.022844827586206897, 93.749: 0.020905172413793104, 94.601: 0.02004310344827586, 92.713: 0.01896551724137931, 92.469: 0.014224137931034483, 94.76700000000001: 0.0125, 93.79799999999999: 0.009051724137931035, 92.756: 0.00021551724137931034}\n"
          ],
          "name": "stdout"
        }
      ]
    },
    {
      "cell_type": "code",
      "metadata": {
        "id": "ASH6Vaxv4PPR",
        "colab_type": "code",
        "outputId": "c217f12b-1b2c-4943-9590-aa4cf36e6a75",
        "colab": {
          "base_uri": "https://localhost:8080/",
          "height": 347
        }
      },
      "source": [
        "plt.hist(df0['cons.price.idx'])"
      ],
      "execution_count": 0,
      "outputs": [
        {
          "output_type": "execute_result",
          "data": {
            "text/plain": [
              "(array([  934.,   385.,  5886.,  5442.,  5018.,     0., 13993.,   523.,\n",
              "         4186.,   181.]),\n",
              " array([92.201 , 92.4576, 92.7142, 92.9708, 93.2274, 93.484 , 93.7406,\n",
              "        93.9972, 94.2538, 94.5104, 94.767 ]),\n",
              " <a list of 10 Patch objects>)"
            ]
          },
          "metadata": {
            "tags": []
          },
          "execution_count": 35
        },
        {
          "output_type": "display_data",
          "data": {
            "image/png": "[encoded data removed]",
            "text/plain": [
              "<Figure size 432x288 with 1 Axes>"
            ]
          },
          "metadata": {
            "tags": []
          }
        }
      ]
    },
    {
      "cell_type": "code",
      "metadata": {
        "id": "uvbz0ntu4fbx",
        "colab_type": "code",
        "outputId": "4e46f7b2-c1e6-4bc2-924b-5fa17e3c9088",
        "colab": {
          "base_uri": "https://localhost:8080/",
          "height": 330
        }
      },
      "source": [
        "plt.hist(df1['cons.price.idx'],bins=10)"
      ],
      "execution_count": 0,
      "outputs": [
        {
          "output_type": "execute_result",
          "data": {
            "text/plain": [
              "(array([550., 322., 915., 632., 421.,   0., 908., 553., 188., 151.]),\n",
              " array([92.201 , 92.4576, 92.7142, 92.9708, 93.2274, 93.484 , 93.7406,\n",
              "        93.9972, 94.2538, 94.5104, 94.767 ]),\n",
              " <a list of 10 Patch objects>)"
            ]
          },
          "metadata": {
            "tags": []
          },
          "execution_count": 36
        },
        {
          "output_type": "display_data",
          "data": {
            "image/png": "[encoded data removed]",
            "text/plain": [
              "<Figure size 432x288 with 1 Axes>"
            ]
          },
          "metadata": {
            "tags": []
          }
        }
      ]
    },
    {
      "cell_type": "code",
      "metadata": {
        "id": "QhmfwZ8-6pUr",
        "colab_type": "code",
        "colab": {}
      },
      "source": [
        "df['cons.price.idx'].unique()"
      ],
      "execution_count": 0,
      "outputs": []
    },
    {
      "cell_type": "code",
      "metadata": {
        "id": "uWoZDlWw4p1l",
        "colab_type": "code",
        "colab": {}
      },
      "source": [
        "def split_cons_price_idx(dataframe):\n",
        "    df = dataframe.copy()\n",
        "    df['cons_price_above'] = np.where( df['cons.price.idx']>93.5, 1, 0)\n",
        "    df['cons_price_below'] = np.where( df['cons.price.idx']<=92.75, 1, 0)\n",
        "    df['cons_price_mid']   = np.where( (df['cons.price.idx']>92.75) & (df['cons.price.idx']< 93.5), 1, 0)\n",
        "    print(df.corr()['target'])"
      ],
      "execution_count": 0,
      "outputs": []
    },
    {
      "cell_type": "code",
      "metadata": {
        "id": "47AojZF2732y",
        "colab_type": "code",
        "outputId": "52d1447e-5a16-4977-f097-1b041170d667",
        "colab": {
          "base_uri": "https://localhost:8080/",
          "height": 439
        }
      },
      "source": [
        "split_cons_price_idx(df)"
      ],
      "execution_count": 0,
      "outputs": [
        {
          "output_type": "stream",
          "text": [
            "age                 0.030399\n",
            "campaign           -0.066357\n",
            "pdays              -0.324914\n",
            "previous            0.230181\n",
            "emp.var.rate       -0.298334\n",
            "cons.price.idx     -0.136211\n",
            "cons.conf.idx       0.054878\n",
            "euribor3m          -0.307771\n",
            "nr.employed        -0.354678\n",
            "target              1.000000\n",
            "age_young           0.062879\n",
            "age_mid_age        -0.150745\n",
            "age_elder           0.162728\n",
            "campaign_C1         0.048504\n",
            "campaign_C2         0.003559\n",
            "campaign_C3        -0.006329\n",
            "campaign_C4        -0.015535\n",
            "campaign_C5        -0.023905\n",
            "campaign_C6        -0.054616\n",
            "pdays_999          -0.324877\n",
            "cons_price_above   -0.081403\n",
            "cons_price_below    0.213917\n",
            "cons_price_mid     -0.014703\n",
            "Name: target, dtype: float64\n"
          ],
          "name": "stdout"
        }
      ]
    },
    {
      "cell_type": "code",
      "metadata": {
        "id": "hqtmve3S-IHM",
        "colab_type": "code",
        "colab": {}
      },
      "source": [
        "df['cons_price_above'] = np.where( df['cons.price.idx']>93.5, 1, 0)\n",
        "df['cons_price_below'] = np.where( df['cons.price.idx']<=92.75, 1, 0)\n",
        "df['cons_price_mid']   = np.where( (df['cons.price.idx']>92.75) & (df['cons.price.idx']< 93.5), 1, 0)"
      ],
      "execution_count": 0,
      "outputs": []
    },
    {
      "cell_type": "code",
      "metadata": {
        "id": "G0UL65QdF4y8",
        "colab_type": "code",
        "outputId": "561357ae-1798-4f52-d654-7bafc0477f77",
        "colab": {
          "base_uri": "https://localhost:8080/",
          "height": 439
        }
      },
      "source": [
        "df.corr()['target']"
      ],
      "execution_count": 0,
      "outputs": [
        {
          "output_type": "execute_result",
          "data": {
            "text/plain": [
              "age                 0.030399\n",
              "campaign           -0.066357\n",
              "pdays              -0.324914\n",
              "previous            0.230181\n",
              "emp.var.rate       -0.298334\n",
              "cons.price.idx     -0.136211\n",
              "cons.conf.idx       0.054878\n",
              "euribor3m          -0.307771\n",
              "nr.employed        -0.354678\n",
              "target              1.000000\n",
              "age_young           0.062879\n",
              "age_mid_age        -0.150745\n",
              "age_elder           0.162728\n",
              "campaign_C1         0.048504\n",
              "campaign_C2         0.003559\n",
              "campaign_C3        -0.006329\n",
              "campaign_C4        -0.015535\n",
              "campaign_C5        -0.023905\n",
              "campaign_C6        -0.054616\n",
              "pdays_999          -0.324877\n",
              "cons_price_above   -0.081403\n",
              "cons_price_below    0.213917\n",
              "cons_price_mid     -0.014703\n",
              "Name: target, dtype: float64"
            ]
          },
          "metadata": {
            "tags": []
          },
          "execution_count": 177
        }
      ]
    },
    {
      "cell_type": "markdown",
      "metadata": {
        "id": "W-CUW4nPGBQM",
        "colab_type": "text"
      },
      "source": [
        "Correlation improve for price below created."
      ]
    },
    {
      "cell_type": "markdown",
      "metadata": {
        "id": "xGaiAIlj8OLE",
        "colab_type": "text"
      },
      "source": [
        "               "
      ]
    },
    {
      "cell_type": "code",
      "metadata": {
        "id": "zaU3hGSk9C-q",
        "colab_type": "code",
        "outputId": "f4c26e1c-be42-4e6e-8369-b6144b7d073e",
        "colab": {
          "base_uri": "https://localhost:8080/",
          "height": 34
        }
      },
      "source": [
        "len(df['cons.conf.idx'].unique())"
      ],
      "execution_count": 0,
      "outputs": [
        {
          "output_type": "execute_result",
          "data": {
            "text/plain": [
              "26"
            ]
          },
          "metadata": {
            "tags": []
          },
          "execution_count": 178
        }
      ]
    },
    {
      "cell_type": "code",
      "metadata": {
        "id": "HjYpxMZp8n2N",
        "colab_type": "code",
        "outputId": "17c4c67a-6492-483f-c6b4-f7ea28ab1f24",
        "colab": {
          "base_uri": "https://localhost:8080/",
          "height": 334
        }
      },
      "source": [
        "plt.hist(df1['cons.conf.idx'])"
      ],
      "execution_count": 0,
      "outputs": [
        {
          "output_type": "execute_result",
          "data": {
            "text/plain": [
              "(array([277., 966.,   1., 785., 711., 270., 758., 154., 538., 180.]),\n",
              " array([-50.8 , -48.41, -46.02, -43.63, -41.24, -38.85, -36.46, -34.07,\n",
              "        -31.68, -29.29, -26.9 ]),\n",
              " <a list of 10 Patch objects>)"
            ]
          },
          "metadata": {
            "tags": []
          },
          "execution_count": 179
        },
        {
          "output_type": "display_data",
          "data": {
            "image/png": "[encoded data removed]",
            "text/plain": [
              "<Figure size 432x288 with 1 Axes>"
            ]
          },
          "metadata": {
            "tags": []
          }
        }
      ]
    },
    {
      "cell_type": "code",
      "metadata": {
        "id": "-q8dGAEB801r",
        "colab_type": "code",
        "outputId": "117c2e68-4342-43b9-b6e0-c30f57979cfd",
        "colab": {
          "base_uri": "https://localhost:8080/",
          "height": 350
        }
      },
      "source": [
        "plt.hist(df0['cons.conf.idx'])"
      ],
      "execution_count": 0,
      "outputs": [
        {
          "output_type": "execute_result",
          "data": {
            "text/plain": [
              "(array([3.3700e+02, 7.2860e+03, 9.0000e+00, 1.3890e+04, 8.2300e+02,\n",
              "        2.6600e+02, 1.2618e+04, 1.9600e+02, 8.5600e+02, 2.6700e+02]),\n",
              " array([-50.8 , -48.41, -46.02, -43.63, -41.24, -38.85, -36.46, -34.07,\n",
              "        -31.68, -29.29, -26.9 ]),\n",
              " <a list of 10 Patch objects>)"
            ]
          },
          "metadata": {
            "tags": []
          },
          "execution_count": 180
        },
        {
          "output_type": "display_data",
          "data": {
            "image/png": "[encoded data removed]",
            "text/plain": [
              "<Figure size 432x288 with 1 Axes>"
            ]
          },
          "metadata": {
            "tags": []
          }
        }
      ]
    },
    {
      "cell_type": "code",
      "metadata": {
        "id": "pM7o5Sta9vTF",
        "colab_type": "code",
        "outputId": "427efe88-9c3f-4d83-9b3f-834ecaa96c92",
        "colab": {
          "base_uri": "https://localhost:8080/",
          "height": 492
        }
      },
      "source": [
        "df['cons_conf_1'] = np.where( df['cons.conf.idx']<-47.5, 1, 0)\n",
        "df['cons_conf_2'] = np.where( df['cons.conf.idx']>-35, 1, 0)\n",
        "df['cons_conf_3']   = np.where( (df['cons.conf.idx']<-35) & (df['cons.conf.idx']>-47.5), 1, 0)\n",
        "print(df.corr()['target'])"
      ],
      "execution_count": 0,
      "outputs": [
        {
          "output_type": "stream",
          "text": [
            "age                 0.030399\n",
            "campaign           -0.066357\n",
            "pdays              -0.324914\n",
            "previous            0.230181\n",
            "emp.var.rate       -0.298334\n",
            "cons.price.idx     -0.136211\n",
            "cons.conf.idx       0.054878\n",
            "euribor3m          -0.307771\n",
            "nr.employed        -0.354678\n",
            "target              1.000000\n",
            "age_young           0.062879\n",
            "age_mid_age        -0.150745\n",
            "age_elder           0.162728\n",
            "campaign_C1         0.048504\n",
            "campaign_C2         0.003559\n",
            "campaign_C3        -0.006329\n",
            "campaign_C4        -0.015535\n",
            "campaign_C5        -0.023905\n",
            "campaign_C6        -0.054616\n",
            "pdays_999          -0.324877\n",
            "cons_price_above   -0.081403\n",
            "cons_price_below    0.213917\n",
            "cons_price_mid     -0.014703\n",
            "cons_conf_1         0.131698\n",
            "cons_conf_2         0.258484\n",
            "cons_conf_3        -0.293863\n",
            "Name: target, dtype: float64\n"
          ],
          "name": "stdout"
        }
      ]
    },
    {
      "cell_type": "markdown",
      "metadata": {
        "id": "L8IYh2CaJVaW",
        "colab_type": "text"
      },
      "source": [
        "#euribor3m"
      ]
    },
    {
      "cell_type": "code",
      "metadata": {
        "id": "ZC1Htag8G9Su",
        "colab_type": "code",
        "outputId": "86f161ca-661f-4a08-cbf7-d5a59061d405",
        "colab": {
          "base_uri": "https://localhost:8080/",
          "height": 350
        }
      },
      "source": [
        "plt.hist(df1['euribor3m'])"
      ],
      "execution_count": 0,
      "outputs": [
        {
          "output_type": "execute_result",
          "data": {
            "text/plain": [
              "(array([1.941e+03, 1.237e+03, 1.230e+02, 0.000e+00, 0.000e+00, 1.000e+00,\n",
              "        0.000e+00, 1.490e+02, 3.400e+01, 1.155e+03]),\n",
              " array([0.634 , 1.0751, 1.5162, 1.9573, 2.3984, 2.8395, 3.2806, 3.7217,\n",
              "        4.1628, 4.6039, 5.045 ]),\n",
              " <a list of 10 Patch objects>)"
            ]
          },
          "metadata": {
            "tags": []
          },
          "execution_count": 186
        },
        {
          "output_type": "display_data",
          "data": {
            "image/png": "[encoded data removed]",
            "text/plain": [
              "<Figure size 432x288 with 1 Axes>"
            ]
          },
          "metadata": {
            "tags": []
          }
        }
      ]
    },
    {
      "cell_type": "code",
      "metadata": {
        "id": "zDD-5WxFJb9i",
        "colab_type": "code",
        "colab": {}
      },
      "source": [
        "df['euribor3m'].unique()"
      ],
      "execution_count": 0,
      "outputs": []
    },
    {
      "cell_type": "markdown",
      "metadata": {
        "id": "ca1F7y73Kg2-",
        "colab_type": "text"
      },
      "source": [
        "Since this variable has a lot of values lets say with it as numeric instead of trying to split into groups."
      ]
    },
    {
      "cell_type": "markdown",
      "metadata": {
        "id": "de1_48tXKvy2",
        "colab_type": "text"
      },
      "source": [
        "#nr.employed"
      ]
    },
    {
      "cell_type": "markdown",
      "metadata": {
        "id": "pzlxSKISKr6M",
        "colab_type": "text"
      },
      "source": [
        "Let's analyze the the nr.employed now..."
      ]
    },
    {
      "cell_type": "code",
      "metadata": {
        "id": "-w8c8PnaL1UR",
        "colab_type": "code",
        "outputId": "041ccf93-c0b1-4c54-8422-f1b15f8d5e4a",
        "colab": {
          "base_uri": "https://localhost:8080/",
          "height": 350
        }
      },
      "source": [
        "plt.hist(df1['nr.employed'])"
      ],
      "execution_count": 0,
      "outputs": [
        {
          "output_type": "execute_result",
          "data": {
            "text/plain": [
              "(array([ 301.,  772.,  542.,    0.,  594., 1092.,    0.,    0.,  473.,\n",
              "         866.]),\n",
              " array([4963.6 , 4990.05, 5016.5 , 5042.95, 5069.4 , 5095.85, 5122.3 ,\n",
              "        5148.75, 5175.2 , 5201.65, 5228.1 ]),\n",
              " <a list of 10 Patch objects>)"
            ]
          },
          "metadata": {
            "tags": []
          },
          "execution_count": 192
        },
        {
          "output_type": "display_data",
          "data": {
            "image/png": "[encoded data removed]",
            "text/plain": [
              "<Figure size 432x288 with 1 Axes>"
            ]
          },
          "metadata": {
            "tags": []
          }
        }
      ]
    },
    {
      "cell_type": "code",
      "metadata": {
        "id": "m_ZyqolOMA3q",
        "colab_type": "code",
        "outputId": "9c0e0455-1c15-4d9b-c09a-52c645a37a1b",
        "colab": {
          "base_uri": "https://localhost:8080/",
          "height": 352
        }
      },
      "source": [
        "plt.hist(df0['nr.employed'])"
      ],
      "execution_count": 0,
      "outputs": [
        {
          "output_type": "execute_result",
          "data": {
            "text/plain": [
              "(array([  334.,   651.,   701.,     0.,  1069.,  7442.,     0.,     0.,\n",
              "        10983., 15368.]),\n",
              " array([4963.6 , 4990.05, 5016.5 , 5042.95, 5069.4 , 5095.85, 5122.3 ,\n",
              "        5148.75, 5175.2 , 5201.65, 5228.1 ]),\n",
              " <a list of 10 Patch objects>)"
            ]
          },
          "metadata": {
            "tags": []
          },
          "execution_count": 193
        },
        {
          "output_type": "display_data",
          "data": {
            "image/png": "[encoded data removed]",
            "text/plain": [
              "<Figure size 432x288 with 1 Axes>"
            ]
          },
          "metadata": {
            "tags": []
          }
        }
      ]
    },
    {
      "cell_type": "markdown",
      "metadata": {
        "id": "dT-bFb9mMYpg",
        "colab_type": "text"
      },
      "source": [
        "From the histograms seens reasonable to split in 3 groups:"
      ]
    },
    {
      "cell_type": "code",
      "metadata": {
        "id": "WzdV9AfbMc0G",
        "colab_type": "code",
        "outputId": "9864f8a1-d343-48e2-f10b-d3fa0a8cc8e0",
        "colab": {
          "base_uri": "https://localhost:8080/",
          "height": 545
        }
      },
      "source": [
        "df['nr_1'] = np.where( df['nr.employed']<5050, 1, 0)\n",
        "df['nr_2'] = np.where( df['nr.employed']>5150, 1, 0)\n",
        "df['nr_3'] = np.where( (df['nr.employed']<5150) & (df['nr.employed']>5050), 1, 0)\n",
        "print(df.corr()['target'])"
      ],
      "execution_count": 0,
      "outputs": [
        {
          "output_type": "stream",
          "text": [
            "age                 0.030399\n",
            "campaign           -0.066357\n",
            "pdays              -0.324914\n",
            "previous            0.230181\n",
            "emp.var.rate       -0.298334\n",
            "cons.price.idx     -0.136211\n",
            "cons.conf.idx       0.054878\n",
            "euribor3m          -0.307771\n",
            "nr.employed        -0.354678\n",
            "target              1.000000\n",
            "age_young           0.062879\n",
            "age_mid_age        -0.150745\n",
            "age_elder           0.162728\n",
            "campaign_C1         0.048504\n",
            "campaign_C2         0.003559\n",
            "campaign_C3        -0.006329\n",
            "campaign_C4        -0.015535\n",
            "campaign_C5        -0.023905\n",
            "campaign_C6        -0.054616\n",
            "pdays_999          -0.324877\n",
            "cons_price_above   -0.081403\n",
            "cons_price_below    0.213917\n",
            "cons_price_mid     -0.014703\n",
            "cons_conf_1         0.131698\n",
            "cons_conf_2         0.258484\n",
            "cons_conf_3        -0.293863\n",
            "nr_1                0.351583\n",
            "nr_2               -0.291273\n",
            "nr_3                0.095591\n",
            "Name: target, dtype: float64\n"
          ],
          "name": "stdout"
        }
      ]
    },
    {
      "cell_type": "markdown",
      "metadata": {
        "id": "HvFGRTf6ZFQ1",
        "colab_type": "text"
      },
      "source": [
        "Correlation did not improve, lets stay with nr.employed"
      ]
    },
    {
      "cell_type": "markdown",
      "metadata": {
        "id": "-sRaFkmCOdJB",
        "colab_type": "text"
      },
      "source": [
        "#Categorical variables"
      ]
    },
    {
      "cell_type": "markdown",
      "metadata": {
        "id": "z4mX8P0-Sidy",
        "colab_type": "text"
      },
      "source": [
        "We will apply the same strategy for all categorical variables. Since we do not have a lot of categories."
      ]
    },
    {
      "cell_type": "code",
      "metadata": {
        "id": "-BiAHVEpSb88",
        "colab_type": "code",
        "colab": {}
      },
      "source": [
        "def categorical_encoding(df):\n",
        "  \n",
        "  total_categorical = 0\n",
        "  each_categorical  = 0\n",
        "  cat_columns = list(df.select_dtypes(include=['object']).columns)\n",
        "  print('Cat Columns')\n",
        "\n",
        "  for cat_column in cat_columns:\n",
        "    #Important line because is adding column name prefix to generate the dummies\n",
        "    dummy = pd.get_dummies(df[cat_column],prefix=cat_column,columns=cat_columns)\n",
        "    df = pd.concat([df,dummy],axis=1)\n",
        "    df.drop([cat_column], axis=1,inplace=True)\n",
        "  \n",
        "  useless_columns = remove_useless(df)\n",
        "  \n",
        "  for col in useless_columns:\n",
        "    df.drop([col], axis=1,inplace=True)\n",
        "  \n",
        "  return df"
      ],
      "execution_count": 0,
      "outputs": []
    },
    {
      "cell_type": "markdown",
      "metadata": {
        "id": "gjfRKSCcneym",
        "colab_type": "text"
      },
      "source": [
        "#Correlation"
      ]
    },
    {
      "cell_type": "code",
      "metadata": {
        "id": "SY-lqK02ngi-",
        "colab_type": "code",
        "outputId": "0afff8ea-6b30-4469-d40b-dcd7cef772b8",
        "colab": {
          "base_uri": "https://localhost:8080/",
          "height": 34
        }
      },
      "source": [
        "corr = df.corr()\n",
        "columns = np.full((corr.shape[0],), True, dtype=bool)\n",
        "\n",
        "for i in range(corr.shape[0]):\n",
        "    for j in range(i+1, corr.shape[0]):\n",
        "        if corr.iloc[i,j] >= 0.8:\n",
        "            if columns[j]:\n",
        "                columns[j] = False                \n",
        "selected_columns = df.columns[columns]\n",
        "data = df[selected_columns]\n",
        "\n",
        "set1 = set(corr.columns)\n",
        "set2 = set(selected_columns)\n",
        "print(list(set1-set2))"
      ],
      "execution_count": 0,
      "outputs": [
        {
          "output_type": "stream",
          "text": [
            "[]\n"
          ],
          "name": "stdout"
        }
      ]
    },
    {
      "cell_type": "markdown",
      "metadata": {
        "id": "xNqoLMn8J9E6",
        "colab_type": "text"
      },
      "source": [
        "#PIPELINE"
      ]
    },
    {
      "cell_type": "code",
      "metadata": {
        "id": "lD_bFjAGdnIt",
        "colab_type": "code",
        "outputId": "47fc43db-15fe-479e-ddbc-f1c3239bcb11",
        "colab": {
          "base_uri": "https://localhost:8080/",
          "height": 363
        }
      },
      "source": [
        "import pandas as pd\n",
        "import numpy as np\n",
        "import os\n",
        "import matplotlib.pyplot as plt\n",
        "import seaborn as sns\n",
        "import xgboost as xgb\n",
        "\n",
        "from sklearn.model_selection import train_test_split\n",
        "from sklearn.metrics import mean_squared_error\n",
        "from sklearn.metrics import r2_score\n",
        "from sklearn.metrics import roc_auc_score\n",
        "from sklearn.linear_model import LogisticRegression\n",
        "from sklearn.model_selection import GridSearchCV\n",
        "from sklearn.utils import shuffle\n",
        "pd.set_option('display.max_columns',500)\n",
        "\n",
        "url = 'https://raw.githubusercontent.com/DTribek/datasets/master/bank-additional-full-train.csv'\n",
        "df   = pd.read_csv(url,sep=';')\n",
        "\n",
        "url2 = 'https://raw.githubusercontent.com/DTribek/datasets/master/bank-additional-val.csv'\n",
        "df_validation  = pd.read_csv(url2,sep=';')\n",
        "\n",
        "print('Imports OK!')\n",
        "\n",
        "def categorical_encoding(df):\n",
        "  \n",
        "  total_categorical = 0\n",
        "  each_categorical  = 0\n",
        "  cat_columns = list(df.select_dtypes(include=['object']).columns)\n",
        "  print('Cat Columns')\n",
        "\n",
        "  for cat_column in cat_columns:\n",
        "    #Important line because is adding column name prefix to generate the dummies\n",
        "    dummy = pd.get_dummies(df[cat_column],prefix=cat_column,columns=cat_columns)\n",
        "    df = pd.concat([df,dummy],axis=1)\n",
        "    df.drop([cat_column], axis=1,inplace=True)\n",
        "  \n",
        "  useless_columns = remove_useless(df)\n",
        "  \n",
        "  for col in useless_columns:\n",
        "    df.drop([col], axis=1,inplace=True)\n",
        "\n",
        "  return df\n",
        "\n",
        "def remove_useless(df):\n",
        "  \n",
        "  print(\"Analysing categorical correlation\")\n",
        "  \n",
        "  #Get all columns generated by dummies method plus target\n",
        "  new_columns = list(df.select_dtypes(include=['uint8']).columns)\n",
        "  new_columns.append('target')\n",
        "  corr_df = df.loc[ : , new_columns ]\n",
        "  corr_df = corr_df.corr()['target']\n",
        "  useless_columns = []\n",
        "  \n",
        "  #if correlation is small, column will be added into list.\n",
        "  #the idea is to remove all useless columns\n",
        "  for i in range(len(corr_df.index)):\n",
        "    \n",
        "    if(abs(corr_df[i])<0.00):\n",
        "      useless_columns.append(corr_df.index[i])\n",
        "  \n",
        "  print('Finished Categorial Correlation')\n",
        "  \n",
        "  return useless_columns\n",
        "\n",
        "def numerical_data(dataframe):\n",
        "    \n",
        "    print('Numerical starting...')\n",
        "    \n",
        "    dataframe = group_age(dataframe)\n",
        "    print('Age finished!')\n",
        "\n",
        "    print('Campaign finished!')\n",
        "    \n",
        "    dataframe['pdays_999']   = np.where( dataframe['pdays']==999, 1, 0)\n",
        "    dataframe.drop(columns='pdays',inplace=True)\n",
        "    print('pdays Finished!')\n",
        "    \n",
        "    dataframe['cons_price_below'] = np.where( dataframe['cons.price.idx']<=92.75, 1, 0)\n",
        "    dataframe.drop(columns='cons.price.idx',inplace=True)\n",
        "    \n",
        "    dataframe['cons_conf_1'] = np.where( dataframe['cons.conf.idx']<-47.5, 1, 0)\n",
        "    dataframe['cons_conf_2'] = np.where( dataframe['cons.conf.idx']>-35, 1, 0)\n",
        "    dataframe['cons_conf_3']   = np.where( (dataframe['cons.conf.idx']<-35) & (dataframe['cons.conf.idx']>-47.5), 1, 0)\n",
        "    dataframe.drop(columns='cons.conf.idx',inplace=True)\n",
        "    \n",
        "    \n",
        "    #dataframe = group_previous(dataframe)\n",
        "    print('Group Previous finished!')\n",
        "    \n",
        "    dataframe = scaler_df(dataframe)\n",
        "    print('Scaler finished!')\n",
        "    \n",
        "    print('Numerical Ended')\n",
        "    return dataframe\n",
        "\n",
        "def group_age(df):\n",
        "    \n",
        "    df['age_young']   = np.where( df['age']<=25, 1, 0)\n",
        "    df['age_mid_age'] = np.where((df['age']>25) & (df['age']< 60)  , 1, 0)\n",
        "    df['age_elder']   = np.where( df['age']>60, 1, 0)\n",
        "    df.drop(columns='age',inplace=True)\n",
        "    \n",
        "    return df\n",
        "    \n",
        "def scaler_df(dataframe):\n",
        "\n",
        "  from sklearn import preprocessing\n",
        "  # Create the Scaler object\n",
        "  x = dataframe.values#returns a numpy array\n",
        "\n",
        "  #Save the columns name\n",
        "  num_columns = dataframe.columns\n",
        "\n",
        "  #Normalize the numerical values\n",
        "  min_max_scaler = preprocessing.MinMaxScaler()\n",
        "  x_scaled = min_max_scaler.fit_transform(x)\n",
        "  dataframe = pd.DataFrame(x_scaled)\n",
        "  #Rename the columns with the previous saved names\n",
        "  dataframe.columns = num_columns\n",
        "  \n",
        "  return dataframe\n",
        "\n",
        "def pipeLine(df):\n",
        "  print('Remaping target...')\n",
        "  df['target'] = df['y'].map({'yes': 1, 'no': 0}) \n",
        "  df.drop(columns='y',inplace = True)\n",
        "  print('Dropping duration column')\n",
        "  df.drop(columns='duration',inplace = True)\n",
        "  print('Categorical Data analysis beggining...')\n",
        "  df = categorical_encoding(df)\n",
        "  print('Categorical Data analysis ended')\n",
        "  df = numerical_data(df)\n",
        "  print('Numerical ended')\n",
        "  df.drop(columns=['loan_unknown', 'nr.employed', 'euribor3m', 'cons_conf_2'],inplace=True)\n",
        "  return df\n",
        "\n",
        "print('Functions definitions OK!')\n",
        "\n",
        "\n",
        "print('Data Load Properly!')\n",
        "\n",
        "\n",
        "print('Pipeline Starting...')\n",
        "df = pipeLine(df)\n",
        "print('Pipeline Ended!')\n"
      ],
      "execution_count": 0,
      "outputs": [
        {
          "output_type": "stream",
          "text": [
            "Imports OK!\n",
            "Functions definitions OK!\n",
            "Data Load Properly!\n",
            "Pipeline Starting...\n",
            "Remaping target...\n",
            "Dropping duration column\n",
            "Categorical Data analysis beggining...\n",
            "Cat Columns\n",
            "Analysing categorical correlation\n",
            "Finished Categorial Correlation\n",
            "Categorical Data analysis ended\n",
            "Numerical starting...\n",
            "Age finished!\n",
            "Campaign finished!\n",
            "pdays Finished!\n",
            "Group Previous finished!\n",
            "Scaler finished!\n",
            "Numerical Ended\n",
            "Numerical ended\n",
            "Pipeline Ended!\n"
          ],
          "name": "stdout"
        }
      ]
    },
    {
      "cell_type": "code",
      "metadata": {
        "id": "kCOHyPjF5tVe",
        "colab_type": "code",
        "outputId": "8f461005-aabf-460e-c6b0-e35db58418e0",
        "colab": {
          "base_uri": "https://localhost:8080/",
          "height": 34
        }
      },
      "source": [
        "df.shape\n",
        "df_1 = df[df['target']==1]\n",
        "df_0 = df[df['target']==0]\n",
        "print(\"Df shape:{} Df1 Shape:{} Df0 Shape:{}\".format(df.shape,df_1.shape,df_0.shape))"
      ],
      "execution_count": 0,
      "outputs": [
        {
          "output_type": "stream",
          "text": [
            "Df shape:(41188, 63) Df1 Shape:(4640, 63) Df0 Shape:(36548, 63)\n"
          ],
          "name": "stdout"
        }
      ]
    },
    {
      "cell_type": "code",
      "metadata": {
        "id": "DzZ2wGTW62HX",
        "colab_type": "code",
        "colab": {}
      },
      "source": [
        "upsampled = resample(df_1,\n",
        "                          replace=True, # sample with replacement\n",
        "                          n_samples=round(len(df_1)*2), # double the minority\n",
        "                          random_state=42) # reproducible results\n",
        "df = shuffle(pd.concat([df_0, upsampled]))"
      ],
      "execution_count": 0,
      "outputs": []
    },
    {
      "cell_type": "code",
      "metadata": {
        "id": "pZ32iF4NcbFc",
        "colab_type": "code",
        "outputId": "6f4c9394-2cd8-400a-933d-6dd7c78a4735",
        "colab": {
          "base_uri": "https://localhost:8080/",
          "height": 52
        }
      },
      "source": [
        "print(upsampled.shape)\n",
        "print(df.shape)"
      ],
      "execution_count": 0,
      "outputs": [
        {
          "output_type": "stream",
          "text": [
            "(9280, 63)\n",
            "(45828, 63)\n"
          ],
          "name": "stdout"
        }
      ]
    },
    {
      "cell_type": "markdown",
      "metadata": {
        "id": "SQiYyaFHcpFp",
        "colab_type": "text"
      },
      "source": [
        "**Tentativa de divisão e learning por partes**"
      ]
    },
    {
      "cell_type": "code",
      "metadata": {
        "id": "I-tUPRm_bTAK",
        "colab_type": "code",
        "outputId": "11234966-7245-423c-d3e7-1e6015e40119",
        "colab": {
          "base_uri": "https://localhost:8080/",
          "height": 69
        }
      },
      "source": [
        "from sklearn.neighbors import KNeighborsClassifier\n",
        "from sklearn.naive_bayes import GaussianNB\n",
        "from sklearn.svm import SVC\n",
        "from sklearn import model_selection\n",
        "from sklearn.ensemble import GradientBoostingClassifier\n",
        "from sklearn.tree import DecisionTreeClassifier\n",
        "from sklearn.ensemble import AdaBoostClassifier\n",
        "from xgboost.sklearn import XGBClassifier\n",
        "from sklearn.ensemble import RandomForestClassifier\n",
        "import warnings\n",
        "warnings.filterwarnings('ignore')\n",
        "\n",
        "# split into training and testing sets\n",
        "from sklearn.model_selection import train_test_split\n",
        "\n",
        "\n",
        "def splitDataFrameIntoSmaller(df,df1, chunkSize = 920): \n",
        "    listOfDf = list()\n",
        "    numberChunks = 10\n",
        "    for i in range(numberChunks):\n",
        "        df_t = df[i*chunkSize:(i+1)*chunkSize*2]\n",
        "        df_s = df1[i*chunkSize:(i+1)*chunkSize]\n",
        "        listOfDf.append( shuffle (pd.concat([df_t,df_s])))\n",
        "    return listOfDf\n",
        "\n",
        "\n",
        "df1 = df[df['target']==1]\n",
        "df0 = df[df['target']==0]\n",
        "\n",
        "print(len(df1))\n",
        "print(len(df0))\n",
        "print(len(df))\n",
        "\n",
        "lista_dataframe = splitDataFrameIntoSmaller(df0,df1) "
      ],
      "execution_count": 0,
      "outputs": [
        {
          "output_type": "stream",
          "text": [
            "9280\n",
            "36548\n",
            "45828\n"
          ],
          "name": "stdout"
        }
      ]
    },
    {
      "cell_type": "markdown",
      "metadata": {
        "id": "tF4bMUSIcwn9",
        "colab_type": "text"
      },
      "source": [
        "#PIPELINE TRAIN TEST SPLIT"
      ]
    },
    {
      "cell_type": "code",
      "metadata": {
        "id": "jG33lfdtmwuq",
        "colab_type": "code",
        "colab": {}
      },
      "source": [
        "import sklearn\n",
        "from sklearn.metrics import precision_recall_fscore_support as score\n",
        "import math\n",
        "\n",
        "def pipeline_train(df):\n",
        "    #Get the columns from data\n",
        "    features = list(df.columns)\n",
        "    features.remove('target')\n",
        "    \n",
        "    X = df[features]\n",
        "    y = df.target\n",
        "    X_train, X_test, y_train, y_test = train_test_split(X,y,random_state=42,stratify=y,train_size=0.80)\n",
        "\n",
        "\n",
        "    # prepare configuration for cross validation test harness\n",
        "    seed = 42\n",
        "    #Models list\n",
        "    models = []\n",
        "    models.append(('LR', LogisticRegression()))\n",
        "    models.append(('KNN', KNeighborsClassifier()))\n",
        "    models.append(('CART', DecisionTreeClassifier()))\n",
        "    models.append(('RF', RandomForestClassifier()))\n",
        "    models.append(('NB', GaussianNB()))\n",
        "    models.append(('ABC', AdaBoostClassifier()))\n",
        "    models.append(('GBC', GradientBoostingClassifier()))\n",
        "    #models.append(('XGB', XGBClassifier()))\n",
        "\n",
        "    \n",
        "    # evaluate each model in turn\n",
        "    results = []\n",
        "    names = []\n",
        "        \n",
        "    for name, model in models:\n",
        "        model.fit(X_train,y_train)\n",
        "        predicted = model.predict(X_test)\n",
        "        precision, recall, fscore, support = score(y_test, predicted)\n",
        "        \n",
        "        tcc_fscore = math.sqrt(fscore[0]*fscore[1])\n",
        "        results.append(tcc_fscore)\n",
        "        names.append(name)\n",
        "        print(\"{}: {} \".format(name, tcc_fscore))\n",
        "    print('------------------------------------')    \n",
        "    \n",
        "    max_value = 0\n",
        "    name = ''\n",
        "    best_index = 0\n",
        "    #Best result for each split...\n",
        "    for index in range (0,len(results)):\n",
        "        if results[index] > max_value:\n",
        "            max_value = results[index]\n",
        "            name = names[index]\n",
        "            best_index = index\n",
        "    print('Melhor modelo:{}'.format(models[best_index][0]))\n",
        "    model_final = models[best_index][1].fit(X_train,y_train)\n",
        "    print('----------------------------------')\n",
        "    return (model_final)"
      ],
      "execution_count": 0,
      "outputs": []
    },
    {
      "cell_type": "code",
      "metadata": {
        "id": "YqOCd4587TDM",
        "colab_type": "code",
        "outputId": "d8db7fe2-2e52-4f9d-ab58-6237701d51b7",
        "colab": {
          "base_uri": "https://localhost:8080/",
          "height": 207
        }
      },
      "source": [
        "mamodel = pipeline_train(df)"
      ],
      "execution_count": 0,
      "outputs": [
        {
          "output_type": "stream",
          "text": [
            "LR: 0.6543855599485717 \n",
            "KNN: 0.7311365427597457 \n",
            "CART: 0.8135463473017427 \n",
            "RF: 0.849136661944769 \n",
            "NB: 0.6715819617040253 \n",
            "ABC: 0.6451542577797301 \n",
            "GBC: 0.6945226513153849 \n",
            "XGB: 0.6844136875251006 \n",
            "------------------------------------\n",
            "Melhor modelo:RF\n",
            "----------------------------------\n"
          ],
          "name": "stdout"
        }
      ]
    },
    {
      "cell_type": "code",
      "metadata": {
        "id": "5wSB5wnohXT-",
        "colab_type": "code",
        "outputId": "117e5c47-fa60-4518-cb0e-89a94c34c8c2",
        "colab": {
          "base_uri": "https://localhost:8080/",
          "height": 1000
        }
      },
      "source": [
        "dic_ops = {}\n",
        "index = 1\n",
        "for item in lista_dataframe:\n",
        "    dic_ops['SPLIT_'+str(index)] = pipeline_train(item)\n",
        "    index = index + 1"
      ],
      "execution_count": 0,
      "outputs": [
        {
          "output_type": "stream",
          "text": [
            "LR: 0.7026356166043829 \n",
            "KNN: 0.6328423872900442 \n",
            "CART: 0.6603552345934464 \n",
            "RF: 0.7028047068081161 \n",
            "NB: 0.6791243120038364 \n",
            "ABC: 0.7240139776611387 \n",
            "GBC: 0.7217643432172329 \n",
            "------------------------------------\n",
            "Melhor modelo:ABC\n",
            "----------------------------------\n",
            "LR: 0.713806554893974 \n",
            "KNN: 0.6146671585857543 \n",
            "CART: 0.6549035948976841 \n",
            "RF: 0.6969761402518568 \n",
            "NB: 0.7198141948745511 \n",
            "ABC: 0.7044598645249213 \n",
            "GBC: 0.7113610954459086 \n",
            "------------------------------------\n",
            "Melhor modelo:NB\n",
            "----------------------------------\n",
            "LR: 0.6669187166730233 \n",
            "KNN: 0.6413700470716588 \n",
            "CART: 0.6202249955401976 \n",
            "RF: 0.7025790667921885 \n",
            "NB: 0.6636767613087913 \n",
            "ABC: 0.6934594347549103 \n",
            "GBC: 0.6914505738690917 \n",
            "------------------------------------\n",
            "Melhor modelo:RF\n",
            "----------------------------------\n",
            "LR: 0.6378046652465722 \n",
            "KNN: 0.6204231384136456 \n",
            "CART: 0.6475374705172892 \n",
            "RF: 0.6513789981631594 \n",
            "NB: 0.6907052446714546 \n",
            "ABC: 0.6194022296416506 \n",
            "GBC: 0.6265557347090939 \n",
            "------------------------------------\n",
            "Melhor modelo:NB\n",
            "----------------------------------\n",
            "LR: 0.5467366534377468 \n",
            "KNN: 0.5382123710376094 \n",
            "CART: 0.5621627239130568 \n",
            "RF: 0.5934898777929873 \n",
            "NB: 0.6360254895791636 \n",
            "ABC: 0.5479528551539196 \n",
            "GBC: 0.5706856520616531 \n",
            "------------------------------------\n",
            "Melhor modelo:NB\n",
            "----------------------------------\n",
            "LR: 0.5780863037968127 \n",
            "KNN: 0.5448039992122544 \n",
            "CART: 0.618995522172204 \n",
            "RF: 0.6502985454009921 \n",
            "NB: 0.6589389620411612 \n",
            "ABC: 0.5899717126979913 \n",
            "GBC: 0.6041858542824605 \n",
            "------------------------------------\n",
            "Melhor modelo:NB\n",
            "----------------------------------\n",
            "LR: 0.5361866659888072 \n",
            "KNN: 0.5089285363384245 \n",
            "CART: 0.6037130858129424 \n",
            "RF: 0.5873892827781577 \n",
            "NB: 0.6233338555361307 \n",
            "ABC: 0.5207215224225924 \n",
            "GBC: 0.5511172774927693 \n",
            "------------------------------------\n",
            "Melhor modelo:NB\n",
            "----------------------------------\n",
            "LR: 0.5333831373450012 \n",
            "KNN: 0.5502308357511962 \n",
            "CART: 0.6386991299587343 \n",
            "RF: 0.6341372840781249 \n",
            "NB: 0.6344231254152607 \n",
            "ABC: 0.5432114257054783 \n",
            "GBC: 0.5828698261230644 \n",
            "------------------------------------\n",
            "Melhor modelo:CART\n",
            "----------------------------------\n",
            "LR: 0.5100263616054083 \n",
            "KNN: 0.5234867219359396 \n",
            "CART: 0.5662819862733939 \n",
            "RF: 0.6009073363952017 \n",
            "NB: 0.5886019906168861 \n",
            "ABC: 0.5145793437482439 \n",
            "GBC: 0.5576777543940473 \n",
            "------------------------------------\n",
            "Melhor modelo:RF\n",
            "----------------------------------\n",
            "LR: 0.5313106360982125 \n",
            "KNN: 0.47228419696993373 \n",
            "CART: 0.5675619411960624 \n",
            "RF: 0.5852063960014824 \n",
            "NB: 0.4143568512148851 \n",
            "ABC: 0.5365920559258762 \n",
            "GBC: 0.5254745494819614 \n",
            "------------------------------------\n",
            "Melhor modelo:RF\n",
            "----------------------------------\n"
          ],
          "name": "stdout"
        }
      ]
    },
    {
      "cell_type": "code",
      "metadata": {
        "id": "K-EueAO4ypRz",
        "colab_type": "code",
        "colab": {}
      },
      "source": [
        "url2 = 'https://raw.githubusercontent.com/DTribek/datasets/master/bank-additional-full-train.csv'\n",
        "df   = pd.read_csv(url2,sep=';')\n",
        "\n",
        "url = 'https://raw.githubusercontent.com/DTribek/datasets/master/bank-additional-val.csv'\n",
        "df_validation =  pd.read_csv(url,sep=';')\n",
        "\n",
        "df_validation = pipeLine(df_validation)\n",
        "print(df_validation.shape)\n",
        "features = list(df_validation.columns)\n",
        "features.remove('target')\n",
        "\n",
        "\n",
        "X_val = df_validation[features].values\n",
        "y_val = df_validation['target'].values"
      ],
      "execution_count": 0,
      "outputs": []
    },
    {
      "cell_type": "code",
      "metadata": {
        "id": "9Zsegt7byKLe",
        "colab_type": "code",
        "outputId": "96ca98f8-f8c6-47e7-cb5d-5bc9e72ded9d",
        "colab": {
          "base_uri": "https://localhost:8080/",
          "height": 34
        }
      },
      "source": [
        "preds = mamodel.predict(X_val)\n",
        "precision, recall, fscore, support = score(y_val, preds)\n",
        "tcc_fscore = math.sqrt(fscore[0]*fscore[1])\n",
        "print(tcc_fscore)"
      ],
      "execution_count": 0,
      "outputs": [
        {
          "output_type": "stream",
          "text": [
            "0.8143655882647816\n"
          ],
          "name": "stdout"
        }
      ]
    },
    {
      "cell_type": "code",
      "metadata": {
        "id": "YjjQ994ia5Kx",
        "colab_type": "code",
        "outputId": "9361b7d3-2454-4cb3-b5e6-432921aba097",
        "colab": {
          "base_uri": "https://localhost:8080/",
          "height": 52
        }
      },
      "source": [
        "frames = pd.concat([df_validation,df])\n",
        "print(frames.shape)\n",
        "frames = frames.drop_duplicates(subset=None, keep='first', inplace=False)\n",
        "print(frames.shape)"
      ],
      "execution_count": 0,
      "outputs": [
        {
          "output_type": "stream",
          "text": [
            "(45307, 81)\n",
            "(45062, 81)\n"
          ],
          "name": "stdout"
        }
      ]
    },
    {
      "cell_type": "code",
      "metadata": {
        "id": "1fg2zUVvB1Cr",
        "colab_type": "code",
        "colab": {}
      },
      "source": [
        "dic_ops"
      ],
      "execution_count": 0,
      "outputs": []
    },
    {
      "cell_type": "code",
      "metadata": {
        "id": "nKTxFHiJ6gr7",
        "colab_type": "code",
        "outputId": "50e5f62d-887c-4a02-eb77-23b918d580d9",
        "colab": {
          "base_uri": "https://localhost:8080/",
          "height": 605
        }
      },
      "source": [
        "list_preds = []\n",
        "list_probs = []\n",
        "\n",
        "\n",
        "\n",
        "for split,model in dic_ops.items():\n",
        "    res = model.predict(X_val)\n",
        "    \n",
        "    precision, recall, fscore, support = score(y_val, preds)\n",
        "    tcc_fscore = math.sqrt(fscore[0]*fscore[1])\n",
        "    print(\"{}:{}\".format(model,tcc_fscore))\n",
        "    #list_probs.append(model.predict_proba(X_train))\n",
        "        "
      ],
      "execution_count": 0,
      "outputs": [
        {
          "output_type": "stream",
          "text": [
            "AdaBoostClassifier(algorithm='SAMME.R', base_estimator=None, learning_rate=1.0,\n",
            "                   n_estimators=50, random_state=None):0.8143655882647816\n",
            "GaussianNB(priors=None, var_smoothing=1e-09):0.8143655882647816\n",
            "RandomForestClassifier(bootstrap=True, class_weight=None, criterion='gini',\n",
            "                       max_depth=None, max_features='auto', max_leaf_nodes=None,\n",
            "                       min_impurity_decrease=0.0, min_impurity_split=None,\n",
            "                       min_samples_leaf=1, min_samples_split=2,\n",
            "                       min_weight_fraction_leaf=0.0, n_estimators=10,\n",
            "                       n_jobs=None, oob_score=False, random_state=None,\n",
            "                       verbose=0, warm_start=False):0.8143655882647816\n",
            "GaussianNB(priors=None, var_smoothing=1e-09):0.8143655882647816\n",
            "GaussianNB(priors=None, var_smoothing=1e-09):0.8143655882647816\n",
            "GaussianNB(priors=None, var_smoothing=1e-09):0.8143655882647816\n",
            "GaussianNB(priors=None, var_smoothing=1e-09):0.8143655882647816\n",
            "DecisionTreeClassifier(class_weight=None, criterion='gini', max_depth=None,\n",
            "                       max_features=None, max_leaf_nodes=None,\n",
            "                       min_impurity_decrease=0.0, min_impurity_split=None,\n",
            "                       min_samples_leaf=1, min_samples_split=2,\n",
            "                       min_weight_fraction_leaf=0.0, presort=False,\n",
            "                       random_state=None, splitter='best'):0.8143655882647816\n",
            "RandomForestClassifier(bootstrap=True, class_weight=None, criterion='gini',\n",
            "                       max_depth=None, max_features='auto', max_leaf_nodes=None,\n",
            "                       min_impurity_decrease=0.0, min_impurity_split=None,\n",
            "                       min_samples_leaf=1, min_samples_split=2,\n",
            "                       min_weight_fraction_leaf=0.0, n_estimators=10,\n",
            "                       n_jobs=None, oob_score=False, random_state=None,\n",
            "                       verbose=0, warm_start=False):0.8143655882647816\n",
            "RandomForestClassifier(bootstrap=True, class_weight=None, criterion='gini',\n",
            "                       max_depth=None, max_features='auto', max_leaf_nodes=None,\n",
            "                       min_impurity_decrease=0.0, min_impurity_split=None,\n",
            "                       min_samples_leaf=1, min_samples_split=2,\n",
            "                       min_weight_fraction_leaf=0.0, n_estimators=10,\n",
            "                       n_jobs=None, oob_score=False, random_state=None,\n",
            "                       verbose=0, warm_start=False):0.8143655882647816\n"
          ],
          "name": "stdout"
        }
      ]
    },
    {
      "cell_type": "code",
      "metadata": {
        "id": "73uacKsxGc1x",
        "colab_type": "code",
        "colab": {}
      },
      "source": [
        "final_preds = np.zeros(len(list_preds[0]))\n",
        "for item in list_preds:\n",
        "    final_preds = final_preds + item\n",
        "\n",
        "final_preds[final_preds<5]  = 0 \n",
        "final_preds[final_preds>=5] = 1"
      ],
      "execution_count": 0,
      "outputs": []
    },
    {
      "cell_type": "code",
      "metadata": {
        "id": "cYjfMMHGGgI7",
        "colab_type": "code",
        "colab": {}
      },
      "source": [
        "precision, recall, fscore, support = score(y_val, final_preds)\n",
        "tcc_fscore2 = math.sqrt(fscore[0]*fscore[1])\n",
        "print(tcc_fscore)"
      ],
      "execution_count": 0,
      "outputs": []
    },
    {
      "cell_type": "markdown",
      "metadata": {
        "id": "-jBsr5OmL2kQ",
        "colab_type": "text"
      },
      "source": [
        "#RandomizedSearch and GridSearch"
      ]
    },
    {
      "cell_type": "markdown",
      "metadata": {
        "id": "0oPm2YFP9A5r",
        "colab_type": "text"
      },
      "source": [
        "We runned this locally, since it takes a lot of time in colab"
      ]
    },
    {
      "cell_type": "markdown",
      "metadata": {
        "id": "H_VDLARH9LEU",
        "colab_type": "text"
      },
      "source": [
        "**Grid**\n",
        "[Parallel(n_jobs=-1)]: Done 1400 out of 1400 | elapsed: 74.2min finished\n",
        "0.9106828528072838\n",
        "{'learning_rate': 0.1, 'max_depth': 5, 'n_estimators': 50}\n",
        "\n",
        "**Randomized**\n",
        "[Parallel(n_jobs=-1)]: Done 100 out of 100 | elapsed:  1.1min finished\n",
        "0.9042792109256449\n",
        "{'n_estimators': 50, 'max_depth': 3, 'learning_rate': 0.15}\n",
        "Best score 0.92 {'n_estimators': 50, 'max_depth': 8, 'learning_rate': 0.2}\n",
        "\n",
        "\n",
        "\n"
      ]
    },
    {
      "cell_type": "code",
      "metadata": {
        "id": "KuP11FBv3H_T",
        "colab_type": "code",
        "outputId": "fecfce11-9b06-453a-ee3a-552aae89d763",
        "colab": {
          "base_uri": "https://localhost:8080/",
          "height": 316
        }
      },
      "source": [
        "from sklearn.ensemble import RandomForestClassifier\n",
        "import pandas as pd\n",
        "from sklearn.model_selection import GridSearchCV\n",
        "from sklearn.model_selection import RandomizedSearchCV\n",
        "from sklearn.ensemble import GradientBoostingClassifier\n",
        "import numpy as np\n",
        "from sklearn.model_selection import train_test_split\n",
        "\n",
        "features = list(df.columns)\n",
        "features.remove('target')\n",
        "X = df[features]\n",
        "y = df.target\n",
        "\n",
        "X_train, X_test, y_train, y_test = train_test_split(X,y,random_state=42,stratify=df['target'],train_size=0.8)\n",
        "\n",
        "\n",
        "random_grid = {'n_estimators': [5,10,50,100,200],\n",
        "               'max_features': [10,20,30,40,50,60],\n",
        "               'max_depth': [1,2,3,4,5,10,20,50],\n",
        "              }\n",
        "\n",
        "clf = RandomizedSearchCV(RandomForestClassifier(), random_grid, cv=10, n_jobs=-1,verbose=10)\n",
        "clf.fit(X_train,y_train)\n",
        "print(clf.score(X_train,y_train))\n",
        "print(clf.best_params_)"
      ],
      "execution_count": 0,
      "outputs": [
        {
          "output_type": "stream",
          "text": [
            "Fitting 10 folds for each of 10 candidates, totalling 100 fits\n"
          ],
          "name": "stdout"
        },
        {
          "output_type": "stream",
          "text": [
            "[Parallel(n_jobs=-1)]: Using backend LokyBackend with 2 concurrent workers.\n",
            "[Parallel(n_jobs=-1)]: Done   1 tasks      | elapsed:    7.7s\n",
            "[Parallel(n_jobs=-1)]: Done   4 tasks      | elapsed:   14.5s\n",
            "[Parallel(n_jobs=-1)]: Done   9 tasks      | elapsed:   34.9s\n",
            "[Parallel(n_jobs=-1)]: Done  14 tasks      | elapsed:  2.0min\n",
            "[Parallel(n_jobs=-1)]: Done  21 tasks      | elapsed:  4.3min\n",
            "[Parallel(n_jobs=-1)]: Done  28 tasks      | elapsed:  4.9min\n",
            "[Parallel(n_jobs=-1)]: Done  37 tasks      | elapsed:  6.1min\n",
            "[Parallel(n_jobs=-1)]: Done  46 tasks      | elapsed:  7.0min\n",
            "[Parallel(n_jobs=-1)]: Done  57 tasks      | elapsed:  7.5min\n",
            "[Parallel(n_jobs=-1)]: Done  68 tasks      | elapsed:  7.6min\n",
            "[Parallel(n_jobs=-1)]: Done  81 tasks      | elapsed:  7.7min\n",
            "[Parallel(n_jobs=-1)]: Done  94 tasks      | elapsed:  8.0min\n",
            "[Parallel(n_jobs=-1)]: Done 100 out of 100 | elapsed:  8.2min finished\n"
          ],
          "name": "stderr"
        },
        {
          "output_type": "stream",
          "text": [
            "0.956821777317113\n",
            "{'n_estimators': 200, 'max_features': 60, 'max_depth': 20}\n"
          ],
          "name": "stdout"
        }
      ]
    }
  ]
}